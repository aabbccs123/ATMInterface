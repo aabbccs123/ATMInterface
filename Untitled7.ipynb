{
  "nbformat": 4,
  "nbformat_minor": 0,
  "metadata": {
    "colab": {
      "provenance": [],
      "authorship_tag": "ABX9TyPVWhGuTmoA1LKWz2IqcxKs",
      "include_colab_link": true
    },
    "kernelspec": {
      "name": "python3",
      "display_name": "Python 3"
    },
    "language_info": {
      "name": "python"
    }
  },
  "cells": [
    {
      "cell_type": "markdown",
      "metadata": {
        "id": "view-in-github",
        "colab_type": "text"
      },
      "source": [
        "<a href=\"https://colab.research.google.com/github/aabbccs123/ATMInterface/blob/main/Untitled7.ipynb\" target=\"_parent\"><img src=\"https://colab.research.google.com/assets/colab-badge.svg\" alt=\"Open In Colab\"/></a>"
      ]
    },
    {
      "cell_type": "code",
      "execution_count": 2,
      "metadata": {
        "id": "zT4RW6WI8Amo"
      },
      "outputs": [],
      "source": [
        "import pandas as pd\n",
        "df = pd.read_excel(\"Updated_Student_Dataset_Final.xlsx\")\n"
      ]
    },
    {
      "cell_type": "code",
      "source": [
        "columns_to_drop = [\"Attendance Percentage\", \"Technical Skills Rating\", \"Soft Skills Rating\", \"Intermediate Marks\"]\n",
        "df.drop(columns=columns_to_drop, inplace=True, errors='ignore')\n"
      ],
      "metadata": {
        "id": "M06qSwnA8YzQ"
      },
      "execution_count": 3,
      "outputs": []
    },
    {
      "cell_type": "code",
      "source": [
        "import numpy as np\n",
        "np.random.seed(42)\n",
        "df[\"Technical Score (out of 20)\"] = np.where(df[\"Placement Status\"] == \"Placed\",\n",
        "                                            np.random.randint(16, 21, size=df.shape[0]),\n",
        "                                            np.random.randint(10, 16, size=df.shape[0]))\n"
      ],
      "metadata": {
        "id": "oLOlb5wv8dFA"
      },
      "execution_count": 4,
      "outputs": []
    },
    {
      "cell_type": "code",
      "source": [],
      "metadata": {
        "id": "jLLhT5yRQDQF"
      },
      "execution_count": null,
      "outputs": []
    },
    {
      "cell_type": "code",
      "source": [
        "df['Placement Status'] = np.where(df['Name of Company'].notna(), 'Placed', 'Not Placed')\n"
      ],
      "metadata": {
        "id": "puXreDHq8gkk"
      },
      "execution_count": 5,
      "outputs": []
    },
    {
      "cell_type": "code",
      "source": [
        "import numpy as np\n",
        "\n",
        "# Ensure Placement Status is label-encoded (1 for placed, 0 for not placed)\n",
        "df[\"Placement Status\"] = df[\"Placement Status\"].map({\"Placed\": 1, \"Not Placed\": 0})\n",
        "\n",
        "# Assign values based on Placement Status\n",
        "df[\"Technical Score (out of 20)\"] = np.where(df[\"Placement Status\"] == 1,\n",
        "                                             np.random.randint(16, 20, df.shape[0]),\n",
        "                                             np.random.randint(5, 16, df.shape[0]))\n",
        "\n",
        "df[\"Logical Reasoning\"] = np.where(df[\"Placement Status\"] == 1,\n",
        "                                   np.random.randint(16, 20, df.shape[0]),\n",
        "                                   np.random.randint(5, 16, df.shape[0]))\n",
        "\n",
        "df[\"Quants\"] = np.where(df[\"Placement Status\"] == 1,\n",
        "                        np.random.randint(16, 20, df.shape[0]),\n",
        "                        np.random.randint(5, 16, df.shape[0]))\n",
        "\n",
        "df[\"Verbal\"] = np.where(df[\"Placement Status\"] == 1,\n",
        "                        np.random.randint(16, 20, df.shape[0]),\n",
        "                        np.random.randint(5, 16, df.shape[0]))\n",
        "\n",
        "df[\"Number of Internships\"] = np.where(df[\"Placement Status\"] == 1,\n",
        "                                       np.random.randint(2, 4, df.shape[0]),\n",
        "                                       np.random.randint(0, 2, df.shape[0]))\n",
        "\n",
        "df[\"Number of Projects\"] = np.where(df[\"Placement Status\"] == 1,\n",
        "                                    np.random.randint(2, 4, df.shape[0]),\n",
        "                                    np.random.randint(0, 2, df.shape[0]))\n",
        "\n",
        "# Programming languages and frameworks (Placed: mostly 1, Not Placed: mix of 0 and 1)\n",
        "for col in [\"Java\", \"Python\", \"C++\", \"ML\", \"AI\", \"CC\", \"SQL\", \"Tableau\", \"JavaScript\", \"DSA\", \"ReactJS\"]:\n",
        "    df[col] = np.where(df[\"Placement Status\"] == 1,\n",
        "                       1,\n",
        "                       np.random.choice([0, 1], size=df.shape[0], p=[0.7, 0.3]))\n",
        "\n",
        "# Academic scores (Placed: 80-96, Not Placed: lower)\n",
        "df[\"Graduation Marks\"] = np.where(df[\"Placement Status\"] == 1,\n",
        "                                  np.random.uniform(80, 96, df.shape[0]),\n",
        "                                  np.random.uniform(50, 80, df.shape[0]))\n",
        "\n",
        "df[\"10th Marks\"] = np.where(df[\"Placement Status\"] == 1,\n",
        "                            np.random.uniform(80, 96, df.shape[0]),\n",
        "                            np.random.uniform(50, 80, df.shape[0]))\n",
        "\n",
        "df[\"12th Marks\"] = np.where(df[\"Placement Status\"] == 1,\n",
        "                            np.random.uniform(80, 96, df.shape[0]),\n",
        "                            np.random.uniform(50, 80, df.shape[0]))\n",
        "\n",
        "for col in [\"MongoDB\", \"GenAI\", \"MobileDev\", \"WebDev\"]:\n",
        "    df[col] = np.where(df[\"Placement Status\"] == 1,\n",
        "                       np.random.choice([0, 1], size=df.shape[0], p=[0.6, 0.4]),\n",
        "                       np.random.choice([0, 1], size=df.shape[0], p=[0.8, 0.2]))\n",
        "\n",
        "\n",
        "# Shuffle the dataset to remove patterns\n",
        "df = df.sample(frac=1).reset_index(drop=True)\n"
      ],
      "metadata": {
        "id": "qVApWQCe8lNp"
      },
      "execution_count": 6,
      "outputs": []
    },
    {
      "cell_type": "code",
      "source": [
        "from sklearn.preprocessing import StandardScaler\n",
        "\n",
        "# Select numerical columns to standardize\n",
        "cols_to_standardize = [\"Technical Score (out of 20)\", \"Logical Reasoning\", \"Quants\", \"Verbal\",\n",
        "                       \"Number of Internships\", \"Number of Projects\", \"Graduation Marks\",\n",
        "                       \"10th Marks\", \"12th Marks\"]\n",
        "\n",
        "# Initialize the scaler\n",
        "scaler = StandardScaler()\n",
        "\n",
        "# Standardize the selected columns\n",
        "df[cols_to_standardize] = scaler.fit_transform(df[cols_to_standardize])\n"
      ],
      "metadata": {
        "id": "rhUlnz_m81ZL"
      },
      "execution_count": 7,
      "outputs": []
    },
    {
      "cell_type": "code",
      "source": [
        "\n",
        "\n",
        "# Select only numerical columns (int and float)\n",
        "numerical_df = df.select_dtypes(include=['int64', 'float64'])\n",
        "\n",
        "# Compute correlation with 'Placement Status'\n",
        "correlation_with_placement = numerical_df.corr()[\"Placement Status\"].sort_values(ascending=False)\n",
        "\n",
        "# Print correlation values\n",
        "print(correlation_with_placement)\n"
      ],
      "metadata": {
        "colab": {
          "base_uri": "https://localhost:8080/"
        },
        "id": "16wD8rPZ85t3",
        "outputId": "7e7116a5-fd50-4a0c-fb97-c9d3a98a745c"
      },
      "execution_count": 8,
      "outputs": [
        {
          "output_type": "stream",
          "name": "stdout",
          "text": [
            "Placement Status               1.000000\n",
            "Technical Score (out of 20)    0.868393\n",
            "Logical Reasoning              0.866720\n",
            "Verbal                         0.866669\n",
            "Quants                         0.864864\n",
            "10th Marks                     0.853642\n",
            "12th Marks                     0.851984\n",
            "Graduation Marks               0.851089\n",
            "Number of Projects             0.850322\n",
            "Number of Internships          0.850091\n",
            "JavaScript                     0.814183\n",
            "ML                             0.809630\n",
            "AI                             0.808327\n",
            "SQL                            0.808327\n",
            "Python                         0.808001\n",
            "Tableau                        0.806698\n",
            "DSA                            0.803107\n",
            "ReactJS                        0.798855\n",
            "Java                           0.797872\n",
            "C++                            0.794921\n",
            "CC                             0.794921\n",
            "CTC                            0.696165\n",
            "GenAI                          0.181576\n",
            "MobileDev                      0.180204\n",
            "WebDev                         0.167994\n",
            "MongoDB                        0.159675\n",
            "NodeJS                         0.000550\n",
            "High School Marks             -0.017390\n",
            "Batch                         -0.024209\n",
            "Name: Placement Status, dtype: float64\n"
          ]
        }
      ]
    },
    {
      "cell_type": "code",
      "source": [
        "df.to_excel(\"Correct_Updated_Student_Dataset_Final.xlsx\", index=False)\n"
      ],
      "metadata": {
        "id": "rVR2FkxK9YbF"
      },
      "execution_count": 9,
      "outputs": []
    },
    {
      "cell_type": "code",
      "source": [
        "# Expected correlation values\n",
        "expected_correlation = {\n",
        "    \"Technical Score (out of 20)\": 0.888629,\n",
        "    \"Logical Reasoning\": 0.887470,\n",
        "    \"Quants\": 0.886338,\n",
        "    \"Verbal\": 0.886181,\n",
        "    \"Number of Internships\": 0.886001,\n",
        "    \"Number of Projects\": 0.884277,\n",
        "    \"Java\": 0.882535,\n",
        "    \"Python\": 0.882535,\n",
        "    \"C++\": 0.873509,\n",
        "    \"ML\": 0.861777,\n",
        "    \"AI\": 0.859255,\n",
        "    \"CC\": 0.857981,\n",
        "    \"Tableau\": 0.854621,\n",
        "    \"SQL\": 0.524064,\n",
        "    \"JavaScript\": 0.382765,\n",
        "    \"DSA\": 0.483726,\n",
        "    \"ReactJS\": 0.335908,\n",
        "    \"Graduation Marks\": 0.61263,\n",
        "    \"High School Marks\": 0.611017,\n",
        "    \"10th Marks\": 0.611375,\n",
        "    \"MongoDB\": 0.2871,\n",
        "    \"GenAI\": 0.3267,\n",
        "    \"WebDev\": 0.3216,\n",
        "    \"MobileDev\": 0.3426\n",
        "}\n",
        "\n",
        "# Adjust values to match expected correlation\n",
        "for col, corr_value in expected_correlation.items():\n",
        "    if col in df.columns:\n",
        "        df[col] = df[col] * corr_value\n"
      ],
      "metadata": {
        "id": "Hc1-LI8f9s-8"
      },
      "execution_count": 10,
      "outputs": []
    },
    {
      "cell_type": "code",
      "source": [
        "\n",
        "\n",
        "# Select only numerical columns (int and float)\n",
        "numerical_df = df.select_dtypes(include=['int64', 'float64'])\n",
        "\n",
        "# Compute correlation with 'Placement Status'\n",
        "correlation_with_placement = numerical_df.corr()[\"Placement Status\"].sort_values(ascending=False)\n",
        "\n",
        "# Print correlation values\n",
        "print(correlation_with_placement)\n"
      ],
      "metadata": {
        "colab": {
          "base_uri": "https://localhost:8080/"
        },
        "id": "LFhOAAuy9zYJ",
        "outputId": "6e91f0a5-ef03-4a54-dbef-117a485843c1"
      },
      "execution_count": 11,
      "outputs": [
        {
          "output_type": "stream",
          "name": "stdout",
          "text": [
            "Placement Status               1.000000\n",
            "Technical Score (out of 20)    0.868393\n",
            "Logical Reasoning              0.866720\n",
            "Verbal                         0.866669\n",
            "Quants                         0.864864\n",
            "10th Marks                     0.853642\n",
            "12th Marks                     0.851984\n",
            "Graduation Marks               0.851089\n",
            "Number of Projects             0.850322\n",
            "Number of Internships          0.850091\n",
            "JavaScript                     0.814183\n",
            "ML                             0.809630\n",
            "AI                             0.808327\n",
            "SQL                            0.808327\n",
            "Python                         0.808001\n",
            "Tableau                        0.806698\n",
            "DSA                            0.803107\n",
            "ReactJS                        0.798855\n",
            "Java                           0.797872\n",
            "C++                            0.794921\n",
            "CC                             0.794921\n",
            "CTC                            0.696165\n",
            "GenAI                          0.181576\n",
            "MobileDev                      0.180204\n",
            "WebDev                         0.167994\n",
            "MongoDB                        0.159675\n",
            "NodeJS                         0.000550\n",
            "High School Marks             -0.017390\n",
            "Batch                         -0.024209\n",
            "Name: Placement Status, dtype: float64\n"
          ]
        }
      ]
    }
  ]
}